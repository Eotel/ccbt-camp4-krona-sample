{
 "cells": [
  {
   "cell_type": "markdown",
   "id": "d408caba15d44f00",
   "metadata": {},
   "source": [
    "## (Optional) Krona Tools Install\n",
    "\n",
    "Qiime2 Krona Plugin を使う場合はおそらくセットアップ不要"
   ]
  },
  {
   "cell_type": "markdown",
   "id": "7aa6e8b8744419c2",
   "metadata": {},
   "source": "### データベース作成"
  },
  {
   "cell_type": "code",
   "execution_count": 7,
   "id": "14852a351b241ee7",
   "metadata": {
    "ExecuteTime": {
     "end_time": "2024-10-10T02:09:16.529725Z",
     "start_time": "2024-10-10T02:09:16.328504Z"
    }
   },
   "outputs": [
    {
     "name": "stdout",
     "output_type": "stream",
     "text": [
      "Removing and linking taxonomy directory...\n",
      "Taxonomy data already exists. Skipping ktUpdateTaxonomy.sh.\n"
     ]
    }
   ],
   "source": [
    "import os\n",
    "import subprocess\n",
    "\n",
    "if not os.path.exists(\"/opt/conda\"):\n",
    "    os.system(\"ln -s /root/miniconda3 /opt/conda\")\n",
    "\n",
    "# 常に /opt/conda/opt/krona/taxonomy を削除して、シンボリックリンクを作成\n",
    "print(\"Removing and linking taxonomy directory...\")\n",
    "os.system(\"rm -rf /opt/conda/opt/krona/taxonomy\")\n",
    "os.system(\"mkdir -p /notebooks/taxonomy\")\n",
    "os.system(\"ln -s /notebooks/taxonomy /opt/conda/opt/krona/taxonomy\")\n",
    "\n",
    "# /notebooks/taxonomy の中身を確認\n",
    "taxonomy_dir = \"/notebooks/taxonomy\"\n",
    "\n",
    "# 中身が空かどうかを確認\n",
    "if not os.listdir(taxonomy_dir):\n",
    "    # 中身が空の場合、セットアップを実行\n",
    "    print(\"No taxonomy data found. Running ktUpdateTaxonomy.sh to update taxonomy...\")\n",
    "    subprocess.run([\"ktUpdateTaxonomy.sh\"], check=True)\n",
    "    print(\"Krona taxonomy update completed.\")\n",
    "else:\n",
    "    # 既に中身が存在する場合\n",
    "    print(\"Taxonomy data already exists. Skipping ktUpdateTaxonomy.sh.\")"
   ]
  },
  {
   "cell_type": "markdown",
   "id": "a3290a06d2544c37",
   "metadata": {},
   "source": [
    "## Qiime2\n",
    "\n",
    "### Fastq ファイルの取り込み"
   ]
  },
  {
   "cell_type": "code",
   "id": "b8f1c5b136e64ff8",
   "metadata": {
    "ExecuteTime": {
     "end_time": "2024-10-11T06:49:34.762686Z",
     "start_time": "2024-10-11T06:49:18.567092Z"
    }
   },
   "source": [
    "%%bash\n",
    "\n",
    "qiime tools import \\\n",
    "    --type 'SampleData[PairedEndSequencesWithQuality]' \\\n",
    "    --input-path data/manifest.csv \\\n",
    "    --output-path data/paired-end-demux.qza \\\n",
    "    --input-format PairedEndFastqManifestPhred33"
   ],
   "outputs": [
    {
     "name": "stderr",
     "output_type": "stream",
     "text": [
      "/root/miniconda3/envs/qiime2-amplicon-2024.5/lib/python3.9/site-packages/tzlocal/unix.py:158: UserWarning: Can not find any timezone configuration, defaulting to UTC.\n",
      "  warnings.warn('Can not find any timezone configuration, defaulting to UTC.')\n"
     ]
    },
    {
     "name": "stdout",
     "output_type": "stream",
     "text": [
      "Imported data/manifest.csv as PairedEndFastqManifestPhred33 to data/paired-end-demux.qza\n"
     ]
    }
   ],
   "execution_count": 1
  },
  {
   "cell_type": "code",
   "id": "9c141cf0ee7b4687",
   "metadata": {
    "jupyter": {
     "is_executing": true
    }
   },
   "source": [
    "%%bash\n",
    "\n",
    "qiime demux summarize \\\n",
    "    --i-data data/paired-end-demux.qza \\\n",
    "    --o-visualization data/paired-end-demux.qzv"
   ],
   "outputs": [],
   "execution_count": null
  },
  {
   "cell_type": "markdown",
   "id": "f2bca424e527417",
   "metadata": {},
   "source": "### DADA2でデノイズ"
  },
  {
   "cell_type": "code",
   "execution_count": 4,
   "id": "f2a371bfa717fe42",
   "metadata": {
    "ExecuteTime": {
     "end_time": "2024-10-10T03:18:53.450820Z",
     "start_time": "2024-10-10T02:51:08.633163Z"
    }
   },
   "outputs": [
    {
     "name": "stdout",
     "output_type": "stream",
     "text": [
      "R version 4.3.3 (2024-02-29) \n"
     ]
    },
    {
     "name": "stderr",
     "output_type": "stream",
     "text": [
      "Loading required package: Rcpp\n"
     ]
    },
    {
     "name": "stdout",
     "output_type": "stream",
     "text": [
      "DADA2: 1.30.0 / Rcpp: 1.0.13 / RcppParallel: 5.1.9 \n",
      "2) Filtering ..........\n",
      "3) Learning Error Rates\n",
      "143137500 total bases in 954250 reads from 10 samples will be used for learning the error rates.\n",
      "143137500 total bases in 954250 reads from 10 samples will be used for learning the error rates.\n",
      "3) Denoise samples ..........\n",
      "..........\n",
      "5) Remove chimeras (method = consensus)\n",
      "6) Report read numbers through the pipeline\n",
      "7) Write output\n"
     ]
    },
    {
     "name": "stderr",
     "output_type": "stream",
     "text": [
      "/root/miniconda3/envs/qiime2-amplicon-2024.5/lib/python3.9/site-packages/tzlocal/unix.py:158: UserWarning: Can not find any timezone configuration, defaulting to UTC.\n",
      "  warnings.warn('Can not find any timezone configuration, defaulting to UTC.')\n"
     ]
    },
    {
     "name": "stdout",
     "output_type": "stream",
     "text": [
      "Running external command line application(s). This may print messages to stdout and/or stderr.\n",
      "The command(s) being run are below. These commands cannot be manually re-run as they will depend on temporary files that no longer exist.\n",
      "\n",
      "Command: run_dada.R --input_directory /tmp/tmpm8pg8wbt/forward --input_directory_reverse /tmp/tmpm8pg8wbt/reverse --output_path /tmp/tmpm8pg8wbt/output.tsv.biom --output_track /tmp/tmpm8pg8wbt/track.tsv --filtered_directory /tmp/tmpm8pg8wbt/filt_f --filtered_directory_reverse /tmp/tmpm8pg8wbt/filt_r --truncation_length 150 --truncation_length_reverse 150 --trim_left 0 --trim_left_reverse 0 --max_expected_errors 2.0 --max_expected_errors_reverse 2.0 --truncation_quality_score 2 --min_overlap 12 --pooling_method independent --chimera_method consensus --min_parental_fold 1.0 --allow_one_off False --num_threads 10 --learn_min_reads 1000000\n",
      "\n",
      "Saved FeatureTable[Frequency] to: data/table.qza\n",
      "Saved FeatureData[Sequence] to: data/rep-seqs.qza\n",
      "Saved SampleData[DADA2Stats] to: data/stats.qza\n"
     ]
    }
   ],
   "source": [
    "%%bash\n",
    "\n",
    "qiime dada2 denoise-paired \\\n",
    "    --i-demultiplexed-seqs data/paired-end-demux.qza \\\n",
    "    --p-trunc-len-f 0 \\\n",
    "    --p-trunc-len-r 0 \\\n",
    "    --p-trim-left-f 0 \\\n",
    "    --p-trim-left-r 0 \\\n",
    "    --p-trunc-q 2 \\\n",
    "    --p-n-reads-learn 1000000 \\\n",
    "    --p-max-ee-f 2.0 \\\n",
    "    --p-max-ee-r 2.0 \\\n",
    "    --p-n-threads 10 \\\n",
    "    --o-table data/table.qza \\\n",
    "    --o-denoising-stats data/stats.qza \\\n",
    "    --o-representative-sequences data/rep-seqs.qza \\\n",
    "    --verbose\n"
   ]
  },
  {
   "cell_type": "markdown",
   "id": "bea9fb86f3175930",
   "metadata": {},
   "source": [
    "### Taxonomy analysis\n",
    "\n",
    "#### SILVAデータベースのダウンロード\n"
   ]
  },
  {
   "metadata": {
    "ExecuteTime": {
     "end_time": "2024-10-11T06:49:43.494267Z",
     "start_time": "2024-10-11T06:49:43.471739Z"
    }
   },
   "cell_type": "code",
   "source": [
    "\"\"\"\n",
    "Download: [Silva 138 99% OTUs full-length sequences](https://data.qiime2.org/classifiers/sklearn-1.4.2/silva/silva-138-99-nb-classifier.qza)\n",
    "UUID: 70b4b5f4-8fce-40bd-b508-afacbc12a5ed\n",
    "SHA256: c08a1aa4d56b449b511f7215543a43249ae9c54b57491428a7e5548a62613616\n",
    "Sklearn Version: 1.4.2\n",
    "Date Trained: 2024-05-30\n",
    "Notes: Silva species taxonomy may be unreliable\n",
    "Citations: Robeson et al. (2020), Bokulich et al. (2018), Silva\n",
    "\"\"\""
   ],
   "id": "588f22ee5c1894d8",
   "outputs": [
    {
     "data": {
      "text/plain": [
       "'\\nDownload: [Silva 138 99% OTUs full-length sequences](https://data.qiime2.org/classifiers/sklearn-1.4.2/silva/silva-138-99-nb-classifier.qza)\\nUUID: 70b4b5f4-8fce-40bd-b508-afacbc12a5ed\\nSHA256: c08a1aa4d56b449b511f7215543a43249ae9c54b57491428a7e5548a62613616\\nSklearn Version: 1.4.2\\nDate Trained: 2024-05-30\\nNotes: Silva species taxonomy may be unreliable\\nCitations: Robeson et al. (2020), Bokulich et al. (2018), Silva\\n'"
      ]
     },
     "execution_count": 2,
     "metadata": {},
     "output_type": "execute_result"
    }
   ],
   "execution_count": 2
  },
  {
   "metadata": {
    "ExecuteTime": {
     "end_time": "2024-10-11T07:10:51.636006Z",
     "start_time": "2024-10-11T06:49:49.219732Z"
    }
   },
   "cell_type": "code",
   "source": [
    "import hashlib\n",
    "import requests\n",
    "\n",
    "# URL and expected SHA256 checksum\n",
    "url = \"https://data.qiime2.org/classifiers/sklearn-1.4.2/silva/silva-138-99-nb-classifier.qza\"\n",
    "expected_sha256 = \"c08a1aa4d56b449b511f7215543a43249ae9c54b57491428a7e5548a62613616\"\n",
    "file_path = \"data/silva-138-99-nb-classifier.qza\"\n",
    "\n",
    "# Download the file\n",
    "print(\"Downloading the file...\")\n",
    "response = requests.get(url)\n",
    "with open(file_path, \"wb\") as file:\n",
    "    file.write(response.content)\n",
    "print(\"Download completed.\")\n",
    "\n",
    "# Verify the SHA256 checksum\n",
    "print(\"Verifying the SHA256 checksum...\")\n",
    "sha256_hash = hashlib.sha256()\n",
    "with open(file_path, \"rb\") as file:\n",
    "    for byte_block in iter(lambda: file.read(4096), b\"\"):\n",
    "        sha256_hash.update(byte_block)\n",
    "calculated_sha256 = sha256_hash.hexdigest()\n",
    "\n",
    "if calculated_sha256 == expected_sha256:\n",
    "    print(\"SHA256 checksum verification successful.\")\n",
    "else:\n",
    "    print(\"SHA256 checksum verification failed.\")\n",
    "    print(f\"Expected: {expected_sha256}\")\n",
    "    print(f\"Calculated: {calculated_sha256}\")"
   ],
   "id": "10b965a54813b750",
   "outputs": [
    {
     "name": "stdout",
     "output_type": "stream",
     "text": [
      "Downloading the file...\n",
      "Download completed.\n",
      "Verifying the SHA256 checksum...\n",
      "SHA256 checksum verification successful.\n"
     ]
    }
   ],
   "execution_count": 3
  },
  {
   "metadata": {},
   "cell_type": "code",
   "outputs": [],
   "execution_count": null,
   "source": "",
   "id": "fc32612c41f5bdff"
  },
  {
   "cell_type": "code",
   "execution_count": 8,
   "id": "4b8978b4f02f09f3",
   "metadata": {
    "ExecuteTime": {
     "end_time": "2024-10-10T03:42:03.849241Z",
     "start_time": "2024-10-10T03:41:43.512840Z"
    }
   },
   "outputs": [
    {
     "name": "stdout",
     "output_type": "stream",
     "text": [
      "Saved FeatureData[Taxonomy] to: data/taxonomy.qza\n"
     ]
    }
   ],
   "source": [
    "%%bash\n",
    "\n",
    "qiime feature-classifier classify-sklearn \\\n",
    "    --i-classifier data/silva-138-99-nb-classifier.qza \\\n",
    "    --i-reads data/rep-seqs.qza \\\n",
    "    --o-classification data/taxonomy.qza"
   ]
  },
  {
   "metadata": {
    "ExecuteTime": {
     "end_time": "2024-10-10T04:40:11.629194Z",
     "start_time": "2024-10-10T04:39:47.243122Z"
    }
   },
   "cell_type": "code",
   "source": [
    "%%bash\n",
    "\n",
    "# [WIP] V3-V4 region\n",
    "\n",
    "qiime feature-classifier classify-sklearn \\\n",
    "    --i-classifier data/silva-138-99-515-806-nb-classifier.qza \\\n",
    "    --i-reads data/rep-seqs.qza \\\n",
    "    --o-classification data/taxonomy-v3-v4.qza"
   ],
   "id": "4409b668bcaba550",
   "outputs": [
    {
     "name": "stderr",
     "output_type": "stream",
     "text": [
      "Plugin error from feature-classifier:\n",
      "\n",
      "  The scikit-learn version (0.24.1) used to generate this artifact does not match the current version of scikit-learn installed (1.4.2). Please retrain your classifier for your current deployment to prevent data-corruption errors.\n",
      "\n",
      "Debug info has been saved to /tmp/qiime2-q2cli-err-9wsicwg6.log\n"
     ]
    },
    {
     "ename": "CalledProcessError",
     "evalue": "Command 'b'\\n# V3-V4 region\\n\\nqiime feature-classifier classify-sklearn \\\\\\n    --i-classifier data/silva-138-99-515-806-nb-classifier.qza \\\\\\n    --i-reads data/rep-seqs.qza \\\\\\n    --o-classification data/taxonomy-v3-v4.qza\\n'' returned non-zero exit status 1.",
     "output_type": "error",
     "traceback": [
      "\u001B[0;31m---------------------------------------------------------------------------\u001B[0m",
      "\u001B[0;31mCalledProcessError\u001B[0m                        Traceback (most recent call last)",
      "Cell \u001B[0;32mIn[15], line 1\u001B[0m\n\u001B[0;32m----> 1\u001B[0m \u001B[43mget_ipython\u001B[49m\u001B[43m(\u001B[49m\u001B[43m)\u001B[49m\u001B[38;5;241;43m.\u001B[39;49m\u001B[43mrun_cell_magic\u001B[49m\u001B[43m(\u001B[49m\u001B[38;5;124;43m'\u001B[39;49m\u001B[38;5;124;43mbash\u001B[39;49m\u001B[38;5;124;43m'\u001B[39;49m\u001B[43m,\u001B[49m\u001B[43m \u001B[49m\u001B[38;5;124;43m'\u001B[39;49m\u001B[38;5;124;43m'\u001B[39;49m\u001B[43m,\u001B[49m\u001B[43m \u001B[49m\u001B[38;5;124;43m'\u001B[39;49m\u001B[38;5;130;43;01m\\n\u001B[39;49;00m\u001B[38;5;124;43m# V3-V4 region\u001B[39;49m\u001B[38;5;130;43;01m\\n\u001B[39;49;00m\u001B[38;5;130;43;01m\\n\u001B[39;49;00m\u001B[38;5;124;43mqiime feature-classifier classify-sklearn \u001B[39;49m\u001B[38;5;130;43;01m\\\\\u001B[39;49;00m\u001B[38;5;130;43;01m\\n\u001B[39;49;00m\u001B[38;5;124;43m    --i-classifier data/silva-138-99-515-806-nb-classifier.qza \u001B[39;49m\u001B[38;5;130;43;01m\\\\\u001B[39;49;00m\u001B[38;5;130;43;01m\\n\u001B[39;49;00m\u001B[38;5;124;43m    --i-reads data/rep-seqs.qza \u001B[39;49m\u001B[38;5;130;43;01m\\\\\u001B[39;49;00m\u001B[38;5;130;43;01m\\n\u001B[39;49;00m\u001B[38;5;124;43m    --o-classification data/taxonomy-v3-v4.qza\u001B[39;49m\u001B[38;5;130;43;01m\\n\u001B[39;49;00m\u001B[38;5;124;43m'\u001B[39;49m\u001B[43m)\u001B[49m\n",
      "File \u001B[0;32m~/miniconda3/envs/qiime2-amplicon-2024.5/lib/python3.9/site-packages/IPython/core/interactiveshell.py:2517\u001B[0m, in \u001B[0;36mInteractiveShell.run_cell_magic\u001B[0;34m(self, magic_name, line, cell)\u001B[0m\n\u001B[1;32m   2515\u001B[0m \u001B[38;5;28;01mwith\u001B[39;00m \u001B[38;5;28mself\u001B[39m\u001B[38;5;241m.\u001B[39mbuiltin_trap:\n\u001B[1;32m   2516\u001B[0m     args \u001B[38;5;241m=\u001B[39m (magic_arg_s, cell)\n\u001B[0;32m-> 2517\u001B[0m     result \u001B[38;5;241m=\u001B[39m \u001B[43mfn\u001B[49m\u001B[43m(\u001B[49m\u001B[38;5;241;43m*\u001B[39;49m\u001B[43margs\u001B[49m\u001B[43m,\u001B[49m\u001B[43m \u001B[49m\u001B[38;5;241;43m*\u001B[39;49m\u001B[38;5;241;43m*\u001B[39;49m\u001B[43mkwargs\u001B[49m\u001B[43m)\u001B[49m\n\u001B[1;32m   2519\u001B[0m \u001B[38;5;66;03m# The code below prevents the output from being displayed\u001B[39;00m\n\u001B[1;32m   2520\u001B[0m \u001B[38;5;66;03m# when using magics with decorator @output_can_be_silenced\u001B[39;00m\n\u001B[1;32m   2521\u001B[0m \u001B[38;5;66;03m# when the last Python token in the expression is a ';'.\u001B[39;00m\n\u001B[1;32m   2522\u001B[0m \u001B[38;5;28;01mif\u001B[39;00m \u001B[38;5;28mgetattr\u001B[39m(fn, magic\u001B[38;5;241m.\u001B[39mMAGIC_OUTPUT_CAN_BE_SILENCED, \u001B[38;5;28;01mFalse\u001B[39;00m):\n",
      "File \u001B[0;32m~/miniconda3/envs/qiime2-amplicon-2024.5/lib/python3.9/site-packages/IPython/core/magics/script.py:154\u001B[0m, in \u001B[0;36mScriptMagics._make_script_magic.<locals>.named_script_magic\u001B[0;34m(line, cell)\u001B[0m\n\u001B[1;32m    152\u001B[0m \u001B[38;5;28;01melse\u001B[39;00m:\n\u001B[1;32m    153\u001B[0m     line \u001B[38;5;241m=\u001B[39m script\n\u001B[0;32m--> 154\u001B[0m \u001B[38;5;28;01mreturn\u001B[39;00m \u001B[38;5;28;43mself\u001B[39;49m\u001B[38;5;241;43m.\u001B[39;49m\u001B[43mshebang\u001B[49m\u001B[43m(\u001B[49m\u001B[43mline\u001B[49m\u001B[43m,\u001B[49m\u001B[43m \u001B[49m\u001B[43mcell\u001B[49m\u001B[43m)\u001B[49m\n",
      "File \u001B[0;32m~/miniconda3/envs/qiime2-amplicon-2024.5/lib/python3.9/site-packages/IPython/core/magics/script.py:314\u001B[0m, in \u001B[0;36mScriptMagics.shebang\u001B[0;34m(self, line, cell)\u001B[0m\n\u001B[1;32m    309\u001B[0m \u001B[38;5;28;01mif\u001B[39;00m args\u001B[38;5;241m.\u001B[39mraise_error \u001B[38;5;129;01mand\u001B[39;00m p\u001B[38;5;241m.\u001B[39mreturncode \u001B[38;5;241m!=\u001B[39m \u001B[38;5;241m0\u001B[39m:\n\u001B[1;32m    310\u001B[0m     \u001B[38;5;66;03m# If we get here and p.returncode is still None, we must have\u001B[39;00m\n\u001B[1;32m    311\u001B[0m     \u001B[38;5;66;03m# killed it but not yet seen its return code. We don't wait for it,\u001B[39;00m\n\u001B[1;32m    312\u001B[0m     \u001B[38;5;66;03m# in case it's stuck in uninterruptible sleep. -9 = SIGKILL\u001B[39;00m\n\u001B[1;32m    313\u001B[0m     rc \u001B[38;5;241m=\u001B[39m p\u001B[38;5;241m.\u001B[39mreturncode \u001B[38;5;129;01mor\u001B[39;00m \u001B[38;5;241m-\u001B[39m\u001B[38;5;241m9\u001B[39m\n\u001B[0;32m--> 314\u001B[0m     \u001B[38;5;28;01mraise\u001B[39;00m CalledProcessError(rc, cell)\n",
      "\u001B[0;31mCalledProcessError\u001B[0m: Command 'b'\\n# V3-V4 region\\n\\nqiime feature-classifier classify-sklearn \\\\\\n    --i-classifier data/silva-138-99-515-806-nb-classifier.qza \\\\\\n    --i-reads data/rep-seqs.qza \\\\\\n    --o-classification data/taxonomy-v3-v4.qza\\n'' returned non-zero exit status 1."
     ]
    }
   ],
   "execution_count": 15
  },
  {
   "cell_type": "markdown",
   "id": "3baa89ff823a7134",
   "metadata": {},
   "source": "### Krona Plugin"
  },
  {
   "cell_type": "code",
   "execution_count": 13,
   "id": "dd715e2a54ae93c6",
   "metadata": {
    "ExecuteTime": {
     "end_time": "2024-10-10T03:45:51.441908Z",
     "start_time": "2024-10-10T03:45:47.658289Z"
    }
   },
   "outputs": [
    {
     "name": "stdout",
     "output_type": "stream",
     "text": [
      "Collecting git+https://github.com/kaanb93/q2-krona.git\r\n",
      "  Cloning https://github.com/kaanb93/q2-krona.git to /tmp/pip-req-build-pdunra_7\r\n",
      "  Running command git clone --filter=blob:none --quiet https://github.com/kaanb93/q2-krona.git /tmp/pip-req-build-pdunra_7\r\n",
      "  Resolved https://github.com/kaanb93/q2-krona.git to commit d794d4bafca56737732bb065589a8c1ab76eb0bd\r\n",
      "  Preparing metadata (setup.py) ... \u001B[?25ldone\r\n",
      "\u001B[?25hBuilding wheels for collected packages: q2-krona\r\n",
      "  Building wheel for q2-krona (setup.py) ... \u001B[?25ldone\r\n",
      "\u001B[?25h  Created wheel for q2-krona: filename=q2_krona-1.0.2-py3-none-any.whl size=4626 sha256=53ce1084438be8015012952722c0b59411d50ba545434da28a923e7c3199d823\r\n",
      "  Stored in directory: /tmp/pip-ephem-wheel-cache-r7gcfbym/wheels/c0/3b/82/30540f77515eb7a920375db686f03ea973ece9e5eaf21ff2d3\r\n",
      "Successfully built q2-krona\r\n",
      "Installing collected packages: q2-krona\r\n",
      "Successfully installed q2-krona-1.0.2\r\n",
      "\u001B[33mWARNING: Running pip as the 'root' user can result in broken permissions and conflicting behaviour with the system package manager, possibly rendering your system unusable.It is recommended to use a virtual environment instead: https://pip.pypa.io/warnings/venv. Use the --root-user-action option if you know what you are doing and want to suppress this warning.\u001B[0m\u001B[33m\r\n",
      "\u001B[0m"
     ]
    }
   ],
   "source": [
    "!pip install git+https://github.com/kaanb93/q2-krona.git"
   ]
  },
  {
   "cell_type": "code",
   "execution_count": 14,
   "id": "d774f902e4d4916",
   "metadata": {
    "ExecuteTime": {
     "end_time": "2024-10-10T03:46:46.593728Z",
     "start_time": "2024-10-10T03:46:30.362491Z"
    }
   },
   "outputs": [
    {
     "name": "stderr",
     "output_type": "stream",
     "text": [
      "QIIME is caching your current deployment for improved performance. This may take a few moments and should only happen once per deployment.\n"
     ]
    },
    {
     "name": "stdout",
     "output_type": "stream",
     "text": [
      "Saved Visualization to: data/krona-plot.qzv\n"
     ]
    }
   ],
   "source": [
    "%%bash\n",
    "\n",
    "qiime krona collapse-and-plot \\\n",
    "    --i-table data/table.qza \\\n",
    "    --i-taxonomy data/taxonomy.qza \\\n",
    "    --o-krona-plot data/krona-plot.qzv"
   ]
  },
  {
   "metadata": {},
   "cell_type": "code",
   "outputs": [],
   "execution_count": null,
   "source": "",
   "id": "7c6717343c046f26"
  }
 ],
 "metadata": {
  "kernelspec": {
   "display_name": "Python 3 (ipykernel)",
   "language": "python",
   "name": "python3"
  },
  "language_info": {
   "codemirror_mode": {
    "name": "ipython",
    "version": 3
   },
   "file_extension": ".py",
   "mimetype": "text/x-python",
   "name": "python",
   "nbconvert_exporter": "python",
   "pygments_lexer": "ipython3",
   "version": "3.12.7"
  }
 },
 "nbformat": 4,
 "nbformat_minor": 5
}
